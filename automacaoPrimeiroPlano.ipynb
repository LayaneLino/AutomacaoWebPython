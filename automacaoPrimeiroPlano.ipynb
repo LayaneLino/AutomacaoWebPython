{
 "cells": [
  {
   "cell_type": "markdown",
   "source": [
    "# Automação de Sistemas e Processos com Python\r\n",
    "\r\n",
    "### Desafio:\r\n",
    "\r\n",
    "Todos os dias, o nosso sistema atualiza as vendas do dia anterior.\r\n",
    "O seu trabalho diário, como analista, é enviar um e-mail para o escritório, no início do dia, com o faturamento e a quantidade de produtos vendidos no dia anterior.\r\n",
    "\r\n",
    "E-mail da diretoria: emailDaSuaEscolha@gmail.com<br>\r\n",
    "Local onde o sistema disponibiliza as vendas do dia anterior: https://drive.google.com/drive/folders/149xknr9JvrlEnhNWO49zPcw0PW5icxga?usp=sharing\r\n",
    "\r\n",
    "Para resolver isso, vamos usar o pyautogui, uma biblioteca de automação de comandos do mouse e do teclado.\r\n",
    "\r\n",
    "Essa automação acontece em primeiro plano."
   ],
   "metadata": {}
  },
  {
   "cell_type": "markdown",
   "source": [
    "### Use esse código para descobrir qual a posição de um item que queira clicar\r\n",
    "\r\n",
    "- Lembre-se: a posição na sua tela é diferente da posição na minha tela"
   ],
   "metadata": {}
  },
  {
   "cell_type": "code",
   "execution_count": null,
   "source": [
    "import time\r\n",
    "\r\n",
    "time.sleep(5)\r\n",
    "print(pyautogui.position())\r\n",
    "pyautogui.alert(\"Posição Registrada\")"
   ],
   "outputs": [],
   "metadata": {}
  },
  {
   "cell_type": "markdown",
   "source": [
    "### Passo a passo:\r\n",
    "\r\n",
    "### Passo 1: Abrir o Drive no navegador e baixar o arquivo;\r\n",
    "- https://drive.google.com/drive/folders/149xknr9JvrlEnhNWO49zPcw0PW5icxga?usp=sharing\r\n"
   ],
   "metadata": {}
  },
  {
   "cell_type": "code",
   "execution_count": 1,
   "source": [
    "import pyautogui\r\n",
    "import time\r\n",
    "import pyperclip\r\n",
    "\r\n",
    "pyautogui.PAUSE = 1\r\n",
    "\r\n",
    "# Abrindo uma aba do Google pelo \"executar\"\r\n",
    "pyautogui.hotkey(\"win\", 'r')\r\n",
    "pyautogui.write(\"chrome.exe\")\r\n",
    "pyautogui.press(\"enter\")\r\n",
    "time.sleep(3)\r\n",
    "# Copiando e colando o link do drive onde está o arquivo\r\n",
    "link = \"https://drive.google.com/drive/folders/149xknr9JvrlEnhNWO49zPcw0PW5icxga?usp=sharing\"\r\n",
    "pyperclip.copy(link)\r\n",
    "pyautogui.hotkey(\"ctrl\", \"v\")\r\n",
    "pyautogui.press(\"enter\")\r\n",
    "time.sleep(5)\r\n",
    "# Usando o pyautogui.position para encontrar as coordenadas DO MEU COMPUTADOR de onde preciso clicar para abrir e baixar o arquivo\r\n",
    "pyautogui.click(389, 300, clicks=2)\r\n",
    "time.sleep(5)\r\n",
    "pyautogui.click(371, 372, button=\"right\")\r\n",
    "pyautogui.click(450, 684)\r\n",
    "time.sleep(10)"
   ],
   "outputs": [],
   "metadata": {}
  },
  {
   "cell_type": "markdown",
   "source": [
    "### Passo 2: Ler o arquivo baixado e capturar o que interessa;\r\n",
    "\r\n",
    "- Faturamento\r\n",
    "- Quantidade de Produtos"
   ],
   "metadata": {}
  },
  {
   "cell_type": "code",
   "execution_count": 2,
   "source": [
    "import pandas as pd\r\n",
    "# Capturando os dados que preciso\r\n",
    "tabela = pd.read_excel(r\"C:\\Users\\XXXX\\Downloads\\Vendas - Dez.xlsx\") # Coloque o caminho onde o arquivo está\r\n",
    "print(tabela)\r\n",
    "faturamento = tabela[\"Valor Final\"].sum()\r\n",
    "quantidade = tabela[\"Quantidade\"].sum()\r\n",
    "print(faturamento)\r\n",
    "print(quantidade)"
   ],
   "outputs": [
    {
     "output_type": "stream",
     "name": "stdout",
     "text": [
      "      Código Venda       Data                     ID Loja           Produto  \\\n",
      "0            65014 2019-12-01            Shopping Morumbi    Sunga Listrado   \n",
      "1            65014 2019-12-01            Shopping Morumbi   Casaco Listrado   \n",
      "2            65016 2019-12-01           Iguatemi Campinas   Sapato Listrado   \n",
      "3            65016 2019-12-01           Iguatemi Campinas            Casaco   \n",
      "4            65017 2019-12-01          Shopping SP Market        Gorro Liso   \n",
      "...            ...        ...                         ...               ...   \n",
      "7084         69996 2019-12-26  Center Shopping Uberlândia    Short Listrado   \n",
      "7085         69996 2019-12-26  Center Shopping Uberlândia           Mochila   \n",
      "7086         69996 2019-12-26  Center Shopping Uberlândia  Pulseira Estampa   \n",
      "7087         69997 2019-12-26           Ribeirão Shopping   Camisa Listrado   \n",
      "7088         69997 2019-12-26           Ribeirão Shopping       Short Linho   \n",
      "\n",
      "      Quantidade  Valor Unitário  Valor Final  \n",
      "0              5             114          570  \n",
      "1              1             269          269  \n",
      "2              2             363          726  \n",
      "3              1             250          250  \n",
      "4              3              92          276  \n",
      "...          ...             ...          ...  \n",
      "7084           2             102          204  \n",
      "7085           4             270         1080  \n",
      "7086           1              87           87  \n",
      "7087           1             108          108  \n",
      "7088           2             133          266  \n",
      "\n",
      "[7089 rows x 7 columns]\n",
      "2917311\n",
      "15227\n"
     ]
    }
   ],
   "metadata": {}
  },
  {
   "cell_type": "markdown",
   "source": [
    "### Passo 3: Enviar os resultados por email\r\n",
    "- emailDaSuaEscolha@gmail.com"
   ],
   "metadata": {}
  },
  {
   "cell_type": "code",
   "execution_count": null,
   "source": [
    "pyautogui.PAUSE = 1\r\n",
    "# Abrindo o gmail em outra guia\r\n",
    "pyautogui.hotkey(\"ctrl\", \"t\")\r\n",
    "time.sleep(3)\r\n",
    "link = \"mail.google.com\"\r\n",
    "pyperclip.copy(link)\r\n",
    "pyautogui.hotkey(\"ctrl\", \"v\")\r\n",
    "pyautogui.press(\"enter\")\r\n",
    "time.sleep(10)\r\n",
    "# Usando as coordenadas para escrever um novo email\r\n",
    "pyautogui.click(69, 204)\r\n",
    "time.sleep(5)\r\n",
    "# Escrevendo o nome do destinatário\r\n",
    "pyautogui.write(\"XXXXXXXX@gmail.com\")\r\n",
    "# Apertando tab duas vezes para selecionar o destinatário e pular para a próxima caixa de texto\r\n",
    "for i in range(2):\r\n",
    "    pyautogui.press('tab')\r\n",
    "# Copiando e colando o assunto do email\r\n",
    "assunto = \"Relatório de vendas\"\r\n",
    "pyperclip.copy(assunto)\r\n",
    "pyautogui.hotkey(\"ctrl\", \"v\")\r\n",
    "# Apertando tab para pular para o corpo do texto e colando o texto com os dados que foram anteriormente capturados\r\n",
    "pyautogui.press(\"tab\")\r\n",
    "corpo = f\"\"\"Prezados, bom dia.\r\n",
    "\r\n",
    "O faturamento de ontem foi de: R${faturamento:,}\r\n",
    "A quantidade de produtos foi de: R${quantidade:,}\r\n",
    "\r\n",
    "Abs.\r\n",
    "XXXXXXX\"\"\"\r\n",
    "pyperclip.copy(corpo)\r\n",
    "pyautogui.hotkey(\"ctrl\", \"v\")\r\n",
    "pyautogui.hotkey(\"ctrl\", \"enter\")\r\n",
    "pyautogui.alert(\"Fim da Automação. Seu computador já voltou a ser seu\")"
   ],
   "outputs": [],
   "metadata": {}
  },
  {
   "cell_type": "markdown",
   "source": [
    "### Caso queira pegar por uma imagem"
   ],
   "metadata": {}
  },
  {
   "cell_type": "code",
   "execution_count": null,
   "source": [
    "time.sleep(5)\r\n",
    "x, y = pyautogui.locateCenterOnScreen(\"gmail.png\")\r\n",
    "pyautogui.click(x, y)"
   ],
   "outputs": [],
   "metadata": {}
  },
  {
   "cell_type": "code",
   "execution_count": null,
   "source": [
    "while not pyautogui.locateCenterOnScreen(\"gmail.png\"):\r\n",
    "    time.sleep(1)\r\n",
    "print(\"Achei\")"
   ],
   "outputs": [],
   "metadata": {}
  }
 ],
 "metadata": {
  "kernelspec": {
   "name": "python3",
   "display_name": "Python 3.8.8 64-bit ('base': conda)"
  },
  "language_info": {
   "codemirror_mode": {
    "name": "ipython",
    "version": 3
   },
   "file_extension": ".py",
   "mimetype": "text/x-python",
   "name": "python",
   "nbconvert_exporter": "python",
   "pygments_lexer": "ipython3",
   "version": "3.8.8"
  },
  "interpreter": {
   "hash": "fb384902f6f0271a8ff771d1bde0598f0f04576467a6dfe4eae0ebc4b030a887"
  }
 },
 "nbformat": 4,
 "nbformat_minor": 4
}